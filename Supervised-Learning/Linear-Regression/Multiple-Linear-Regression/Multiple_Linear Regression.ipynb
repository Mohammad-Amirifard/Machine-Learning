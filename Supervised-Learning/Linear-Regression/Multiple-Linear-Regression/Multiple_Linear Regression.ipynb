{
 "cells": [
  {
   "cell_type": "markdown",
   "id": "7f18e599",
   "metadata": {},
   "source": [
    "# Multiple_Linear Regression\n",
    ".\n",
    ".\n",
    ".\n",
    "<figure>\n",
    "    <center> <img src=\"https://bernhardclemm.com/img/regression.gif\"  style=\"width:800px;height:300px;\" ></center>\n",
    "</figure>\n"
   ]
  },
  {
   "cell_type": "markdown",
   "id": "f913cadc",
   "metadata": {},
   "source": [
    "# Outline\n",
    "- [1 Project detail](#top_1)\n",
    "- [&nbsp;&nbsp;1.1 Goal](#top_1.1)\n",
    "- [&nbsp;&nbsp;1.2 Used Notations](#top_1.2)\n",
    "- [&nbsp;&nbsp;1.3 Used Equations](#top_1.3)\n",
    "- [2 Our Program](#top_2)\n",
    "- [&nbsp;&nbsp;2.1 Import libraries](#top_2.1)\n",
    "- [&nbsp;&nbsp;2.2 Load data](#top_2.2)\n",
    "- [&nbsp;&nbsp;2.3 Define variables](#top_2.3)\n",
    "- [&nbsp;&nbsp;2.4 Compute cost function](#top_2.4)\n",
    "- [&nbsp;&nbsp;2.5 Plot cost function](#top_2.5)\n",
    "- [&nbsp;&nbsp;2.6 Plot data with fit line](#top_2.6)"
   ]
  },
  {
   "attachments": {},
   "cell_type": "markdown",
   "id": "67909cf7",
   "metadata": {},
   "source": [
    "<a name=\"top_1\"></a>\n",
    "# 1. Project detail\n",
    "---------------\n",
    "This project hepls us learn l multiple linear regression model.\n",
    "Acutally we want to create a linear regression model on the available dataset.\n",
    "\n",
    "Dataset is about house price, including five features(Avg. Area House Age, Avg. Area Number of Rooms, Avg. Area Number of Bedrooms) and a target(Price). \n",
    "\n",
    "\n",
    "Let's get started"
   ]
  },
  {
   "cell_type": "markdown",
   "id": "91620052",
   "metadata": {},
   "source": [
    "<a  name=\"top_1.1\"></a>\n",
    "## 1.1 Goal\n",
    "---------------\n",
    "The goal is  predicting the house price based on given features."
   ]
  },
  {
   "cell_type": "markdown",
   "id": "cf4c2052",
   "metadata": {},
   "source": [
    "<a name=\"top_1.2\"></a>\n",
    "## 1.2 Notations used in this project\n",
    "------------\n",
    "Here is a summary of some of the notation you will encounter.  \n",
    "\n",
    "|General <img width=70/> <br />  Notation  <img width=70/> | Description<img width=350/>| Python (if applicable) |\n",
    "|: ------------|: ------------------------------------------------------------||\n",
    "|  $\\mathbf{x}$ | Training Example feature values (in this lab -3 features - 5000 items)  | `x_train` |   \n",
    "|  $\\mathbf{y}$  | Training Example  targets (in this lab lab -              5000 items).  | `y_train` \n",
    "| m | Number of training examples | `m`|\n",
    "| n | Number of features          | `n`|\n",
    "|  $w$  |  parameter: weight,                                 | `w`    |\n",
    "|  $b$           |  parameter: bias                                           | `b`    |     \n",
    "| $f_{w,b}(x^{(i)})$ | The result of the model evaluation at $x^{(i)}$ parameterized by $w,b$: $f_{w,b}(x^{(i)}) = wx^{(i)}+b$  | `f_wb` "
   ]
  },
  {
   "cell_type": "markdown",
   "id": "0448aa1a",
   "metadata": {},
   "source": [
    "<a name=\"top_1.3\"></a>\n",
    "## 1.3  Equations Used in this project\n",
    " \n",
    " \n",
    " \n",
    " \n",
    "-----------------\n",
    "#### Model function: $$ f_{w,b}(x^{(i)}) = wx^{(i)} + b \\tag{1}$$\n",
    "\n",
    "\n",
    "#### Parameters :                             `w` and `b`\n",
    "\n",
    "#### Cost Function: $$J(w,b) = \\frac{1}{2m} \\sum\\limits_{i = 0}^{m-1} (f_{w,b}(x^{(i)}) - y^{(i)})^2\\tag{2}$$ \n",
    "\n",
    "#### Graident Descent:\n",
    "$$\\begin{align*} \\text{repeat}&\\text{ until convergence:} \\; \\lbrace \\newline\n",
    "\\;  w &= w -  \\alpha \\frac{\\partial J(w,b)}{\\partial w} \\tag{3}  \\; \\newline \n",
    " b &= b -  \\alpha \\frac{\\partial J(w,b)}{\\partial b}  \\newline \\rbrace\n",
    "\\end{align*}$$\n",
    "where, parameters $w$, $b$ are updated simultaneously.  \n",
    "The gradient is defined as:\n",
    "$$\n",
    "\\begin{align}\n",
    "\\frac{\\partial J(w,b)}{\\partial w}  &= \\frac{1}{m} \\sum\\limits_{i = 0}^{m-1} (f_{w,b}(x^{(i)}) - y^{(i)})x^{(i)} \\tag{4}\\\\\n",
    "  \\frac{\\partial J(w,b)}{\\partial b}  &= \\frac{1}{m} \\sum\\limits_{i = 0}^{m-1} (f_{w,b}(x^{(i)}) - y^{(i)}) \\tag{5}\\\\\n",
    "\\end{align}\n",
    "$$\n",
    "\n",
    "Here *simultaniously* means that you calculate the partial derivatives for all the parameters before updating any of the parameters.\n",
    "\n",
    "#### X_Matrix$$\\mathbf{X} = \n",
    "\\begin{pmatrix}\n",
    " x^{(0)}_1 & \\cdots & x^{(0)}_{n-1} \\\\ \n",
    " x^{(1)}_1 & \\cdots & x^{(1)}_{n-1} \\\\\n",
    " \\cdots \\ & \\cdots \\ & \\cdots\\\\\n",
    " x^{(m-1)}_1 & \\cdots & x^{(m-1)}_{n-1} \n",
    "\\end{pmatrix}\\tag{6}\n",
    "$$"
   ]
  },
  {
   "cell_type": "markdown",
   "id": "b14e76fd",
   "metadata": {},
   "source": [
    "<a name=\"top_2\"></a>\n",
    "## 2. Our Program\n",
    "Here you can see the code to run this model"
   ]
  },
  {
   "cell_type": "markdown",
   "id": "be8dc204",
   "metadata": {},
   "source": [
    "<a name=\"top_2.1\"></a>\n",
    "## 2.1 Import libraries"
   ]
  },
  {
   "cell_type": "code",
   "execution_count": 1,
   "id": "45996131",
   "metadata": {},
   "outputs": [],
   "source": [
    "import numpy as np\n",
    "import pandas as pd\n",
    "import math\n",
    "import matplotlib.pyplot as plt"
   ]
  },
  {
   "cell_type": "markdown",
   "id": "ff8baedb",
   "metadata": {},
   "source": [
    "<a name=\"top_2.2\"></a>\n",
    "## 2.2 Load data"
   ]
  },
  {
   "cell_type": "code",
   "execution_count": 2,
   "id": "df67b042",
   "metadata": {},
   "outputs": [
    {
     "data": {
      "text/html": [
       "<div>\n",
       "<style scoped>\n",
       "    .dataframe tbody tr th:only-of-type {\n",
       "        vertical-align: middle;\n",
       "    }\n",
       "\n",
       "    .dataframe tbody tr th {\n",
       "        vertical-align: top;\n",
       "    }\n",
       "\n",
       "    .dataframe thead th {\n",
       "        text-align: right;\n",
       "    }\n",
       "</style>\n",
       "<table border=\"1\" class=\"dataframe\">\n",
       "  <thead>\n",
       "    <tr style=\"text-align: right;\">\n",
       "      <th></th>\n",
       "      <th>Avg. Area House Age</th>\n",
       "      <th>Avg. Area Number of Rooms</th>\n",
       "      <th>Avg. Area Number of Bedrooms</th>\n",
       "      <th>Price</th>\n",
       "    </tr>\n",
       "  </thead>\n",
       "  <tbody>\n",
       "    <tr>\n",
       "      <th>0</th>\n",
       "      <td>5.682861</td>\n",
       "      <td>7.009188</td>\n",
       "      <td>4.09</td>\n",
       "      <td>1.059034e+06</td>\n",
       "    </tr>\n",
       "    <tr>\n",
       "      <th>1</th>\n",
       "      <td>6.002900</td>\n",
       "      <td>6.730821</td>\n",
       "      <td>3.09</td>\n",
       "      <td>1.505891e+06</td>\n",
       "    </tr>\n",
       "    <tr>\n",
       "      <th>2</th>\n",
       "      <td>5.865890</td>\n",
       "      <td>8.512727</td>\n",
       "      <td>5.13</td>\n",
       "      <td>1.058988e+06</td>\n",
       "    </tr>\n",
       "    <tr>\n",
       "      <th>3</th>\n",
       "      <td>7.188236</td>\n",
       "      <td>5.586729</td>\n",
       "      <td>3.26</td>\n",
       "      <td>1.260617e+06</td>\n",
       "    </tr>\n",
       "    <tr>\n",
       "      <th>4</th>\n",
       "      <td>5.040555</td>\n",
       "      <td>7.839388</td>\n",
       "      <td>4.23</td>\n",
       "      <td>6.309435e+05</td>\n",
       "    </tr>\n",
       "  </tbody>\n",
       "</table>\n",
       "</div>"
      ],
      "text/plain": [
       "   Avg. Area House Age  Avg. Area Number of Rooms  \\\n",
       "0             5.682861                   7.009188   \n",
       "1             6.002900                   6.730821   \n",
       "2             5.865890                   8.512727   \n",
       "3             7.188236                   5.586729   \n",
       "4             5.040555                   7.839388   \n",
       "\n",
       "   Avg. Area Number of Bedrooms         Price  \n",
       "0                          4.09  1.059034e+06  \n",
       "1                          3.09  1.505891e+06  \n",
       "2                          5.13  1.058988e+06  \n",
       "3                          3.26  1.260617e+06  \n",
       "4                          4.23  6.309435e+05  "
      ]
     },
     "execution_count": 2,
     "metadata": {},
     "output_type": "execute_result"
    }
   ],
   "source": [
    "filepath = 'Multiple_Linear Regression_data.csv'\n",
    "data = pd.read_csv(filepath)\n",
    "#See five first items of dataframe\n",
    "data.head()"
   ]
  },
  {
   "cell_type": "markdown",
   "id": "7c0f6516",
   "metadata": {},
   "source": [
    "## 2.3 Define variables"
   ]
  },
  {
   "cell_type": "code",
   "execution_count": 3,
   "id": "7ea0eb77",
   "metadata": {},
   "outputs": [
    {
     "name": "stdout",
     "output_type": "stream",
     "text": [
      "Number of training items: 5000\n",
      "Number of features: 3\n",
      "\n",
      "Five rows of x: \n",
      " [[5.68286132 7.00918814 4.09      ]\n",
      " [6.00289981 6.73082102 3.09      ]\n",
      " [5.86588984 8.51272743 5.13      ]\n",
      " [7.18823609 5.58672866 3.26      ]\n",
      " [5.04055452 7.83938779 4.23      ]]\n",
      "\n",
      "Five rows of y: \n",
      " [[7.00918814]\n",
      " [6.73082102]\n",
      " [8.51272743]\n",
      " [5.58672866]\n",
      " [7.83938779]]\n"
     ]
    }
   ],
   "source": [
    "# Set x and y train\n",
    "x_train = np.array(data.iloc[:,:-1])\n",
    "y_train = np.array(data.iloc[:,1]).reshape(-1,1)\n",
    "\n",
    "# Set m and n\n",
    "m = x_train.shape[0]\n",
    "n = data.shape[1]-1\n",
    "\n",
    "# ----------------------------------------\n",
    "print(f'Number of training items: {m}')\n",
    "print(f'Number of features: {n}')\n",
    "print('\\nFive rows of x: \\n',x_train[:5])\n",
    "print('\\nFive rows of y: \\n',y_train[:5])"
   ]
  },
  {
   "cell_type": "markdown",
   "id": "375f7605",
   "metadata": {},
   "source": [
    "<a name=\"top_2.3\"></a>\n",
    "## 2.3 Compute cost function"
   ]
  },
  {
   "cell_type": "code",
   "execution_count": 4,
   "id": "c26202a8",
   "metadata": {},
   "outputs": [
    {
     "name": "stdout",
     "output_type": "stream",
     "text": [
      "First cost function with w=[[1. 1. 1.]],b=1 is : [61.3052431]\n",
      "Last cost_function with (w,b)([[0.29775169 0.3372289  0.49017675]],0.8946241796021126)is :[0.26545382]\n"
     ]
    }
   ],
   "source": [
    "#Compute best cost function with Gradient Descent function\n",
    "#---------------------------------\n",
    "\n",
    "#Set initial values for w and b: Since we have n features,therefore n (w) are needed.\n",
    "# We set 1 to all Ws and b items\n",
    "w = np.ones((1,3))\n",
    "b = 1\n",
    "\n",
    "# Create some lists to store data\n",
    "cost_func_list = []\n",
    "w_list = []\n",
    "b_list = []\n",
    "w_list.append(w)\n",
    "b_list.append(b)\n",
    "\n",
    "# Hyperparameters of model\n",
    "Number_of_iterations = 200\n",
    "learning_rate = 0.001\n",
    "\n",
    "def compute_best_cost_func(x_train, y_train, m, lr, Number_of_iterations):\n",
    "    \n",
    "    global w,b\n",
    "    \n",
    "    # Create a loop to find the minimum cost function\n",
    "    for i in range(Number_of_iterations):\n",
    "        # Again, define equations\n",
    "        \n",
    "        # Because we are using * between two matrix, so we have a matirx(5000*5). Since we want to compare it with y_train,\n",
    "        # we need to have a matrix 5000*1 and since we know our matrix is liek this -->[w1x1 w2x2 w3x3 ....w5x5]. Finally,\n",
    "        # we can have sum of each row \n",
    "        f_wb = (np.sum((w * x_train), axis=1) + b).reshape(-1,1)\n",
    "        error = (f_wb - y_train)\n",
    "        cost_func = (1/(2 * m)) * sum(error**2)\n",
    "\n",
    "        #Updata w and b with the help of gradient descent\n",
    "        dj_dw = (1/m) * np.sum((error * x_train),axis=0)\n",
    "        dj_db = (1/m) * np.sum(error)    \n",
    "        w = w - lr * dj_dw\n",
    "        b = b - lr * dj_db\n",
    "        \n",
    "        # Store varaibles to use \n",
    "        cost_func_list.append(cost_func)\n",
    "        w_list.append(w)\n",
    "        b_list.append(b)\n",
    "        \n",
    "    print(f'First cost function with w={w_list[0]},b={b_list[0]} is : {cost_func_list[0]}\\nLast cost_function with (w,b)({w_list[-1]},{b_list[-1]})is :{cost_func_list[-1]}')\n",
    "    return cost_func_list,w_list,b_list\n",
    "\n",
    "\n",
    "# call the function\n",
    "object = compute_best_cost_func(x_train,y_train,m,learning_rate,Number_of_iterations)"
   ]
  },
  {
   "cell_type": "markdown",
   "id": "fe19360b",
   "metadata": {},
   "source": [
    "<a name=\"top_2.4\"></a>\n",
    "## 2.4 Plot cost funtion"
   ]
  },
  {
   "cell_type": "code",
   "execution_count": 5,
   "id": "a28aa2e0",
   "metadata": {},
   "outputs": [
    {
     "data": {
      "image/png": "[encoded data removed]",
      "text/plain": [
       "<Figure size 432x288 with 1 Axes>"
      ]
     },
     "metadata": {
      "needs_background": "light"
     },
     "output_type": "display_data"
    }
   ],
   "source": [
    "def plot_costfunction(x,y):\n",
    "    figure = plt.figure(figsize=(6,4))\n",
    "    plt.plot(x,y, linestyle='--',linewidth=3,label='J - Iteration plot')\n",
    "    plt.scatter(x=0, y=cost_func_list[0], c='red', marker='v', linewidths=4, label='Start Point')\n",
    "    plt.scatter(x=Number_of_iterations, y=cost_func_list[-1], c='black', marker='>',\n",
    "                linewidths=4, label='End Point')\n",
    "    plt.xlabel('Iterations',fontsize=14,fontweight='bold')\n",
    "    plt.ylabel('J (Cost_Function)',fontsize=12,fontweight='bold')\n",
    "    plt.grid()\n",
    "    plt.legend()\n",
    "    \n",
    "    \n",
    "    \n",
    "    \n",
    "object = plot_costfunction(x=np.arange(Number_of_iterations),y=cost_func_list)"
   ]
  }
 ],
 "metadata": {
  "kernelspec": {
   "display_name": "Python 3 (ipykernel)",
   "language": "python",
   "name": "python3"
  },
  "language_info": {
   "codemirror_mode": {
    "name": "ipython",
    "version": 3
   },
   "file_extension": ".py",
   "mimetype": "text/x-python",
   "name": "python",
   "nbconvert_exporter": "python",
   "pygments_lexer": "ipython3",
   "version": "3.8.5"
  }
 },
 "nbformat": 4,
 "nbformat_minor": 5
}
