{
 "cells": [
  {
   "cell_type": "markdown",
   "id": "7f18e599",
   "metadata": {},
   "source": [
    "# Linear Regression\n",
    ".\n",
    ".\n",
    ".\n",
    "<figure>\n",
    "    <center> <img src=\"https://muthu.co/wp-content/uploads/2018/09/1_xc5CSmK9d8oeKYxKxenEGg.gif\"  style=\"width:600px;height:400px;\" ></center>\n",
    "</figure>\n"
   ]
  },
  {
   "cell_type": "markdown",
   "id": "f913cadc",
   "metadata": {},
   "source": [
    "# Outline\n",
    "- [1 Project detail](#top_1)\n",
    "- [&nbsp;&nbsp;1.1 Used Notations](#top_1.1)\n",
    "- [&nbsp;&nbsp;1.2 Used Equations](#top_1.2)\n",
    "- [2 Our Program](#top_2)\n",
    "- [&nbsp;&nbsp;2.1 Import libraries](#top_2.1)\n",
    "- [&nbsp;&nbsp;2.2 Load data](#top_2.2)\n",
    "- [&nbsp;&nbsp;2.3 Define variables](#top_2.3)\n",
    "- [&nbsp;&nbsp;2.4 Compute cost function](#top_2.4)\n",
    "- [&nbsp;&nbsp;2.5 Plot cost function](#top_2.5)\n",
    "- [&nbsp;&nbsp;2.6 Plot data with fit line](#top_2.6)"
   ]
  },
  {
   "cell_type": "markdown",
   "id": "67909cf7",
   "metadata": {},
   "source": [
    "<a name=\"top_1\"></a>\n",
    "# 1. Project detail\n",
    "---------------\n",
    "This project hepls us to learn linear regression model.\n",
    "Acutally we want to create a linear regression model on the available dataset, including 300 data, and test it with some items.\n",
    "\n",
    "\n",
    "Let's get started"
   ]
  },
  {
   "cell_type": "markdown",
   "id": "cf4c2052",
   "metadata": {},
   "source": [
    "<a name=\"top_1.1\"></a>\n",
    "## 1.1 Notations used in this project\n",
    "------------\n",
    "Here is a summary of some of the notation you will encounter.  \n",
    "\n",
    "|General <img width=70/> <br />  Notation  <img width=70/> | Description<img width=350/>| Python (if applicable) |\n",
    "|: ------------|: ------------------------------------------------------------||\n",
    "|  $\\mathbf{x}$ | Training Example feature values (in this lab - 97 items))  | `x_train` |   \n",
    "|  $\\mathbf{y}$  | Training Example  targets (in this lab lab - 97 items).  | `y_train` \n",
    "| m | Number of training examples | `m`|\n",
    "| n | Number of features          | `n`|\n",
    "|  $w$  |  parameter: weight,                                 | `w`    |\n",
    "|  $b$           |  parameter: bias                                           | `b`    |     \n",
    "| $f_{w,b}(x^{(i)})$ | The result of the model evaluation at $x^{(i)}$ parameterized by $w,b$: $f_{w,b}(x^{(i)}) = wx^{(i)}+b$  | `f_wb` "
   ]
  },
  {
   "cell_type": "markdown",
   "id": "0448aa1a",
   "metadata": {},
   "source": [
    "<a name=\"top_1.2\"></a>\n",
    "## 1.2  Equations Used in this project\n",
    " \n",
    " \n",
    " \n",
    " \n",
    "-----------------\n",
    "#### Model function: $$ f_{w,b}(x^{(i)}) = wx^{(i)} + b \\tag{1}$$\n",
    "\n",
    "\n",
    "#### Parameters :                             `w` and `b`\n",
    "\n",
    "#### Cost Function: $$J(w,b) = \\frac{1}{2m} \\sum\\limits_{i = 0}^{m-1} (f_{w,b}(x^{(i)}) - y^{(i)})^2\\tag{2}$$ \n",
    "\n",
    "#### Graident Descent:\n",
    "$$\\begin{align*} \\text{repeat}&\\text{ until convergence:} \\; \\lbrace \\newline\n",
    "\\;  w &= w -  \\alpha \\frac{\\partial J(w,b)}{\\partial w} \\tag{3}  \\; \\newline \n",
    " b &= b -  \\alpha \\frac{\\partial J(w,b)}{\\partial b}  \\newline \\rbrace\n",
    "\\end{align*}$$\n",
    "where, parameters $w$, $b$ are updated simultaneously.  \n",
    "The gradient is defined as:\n",
    "$$\n",
    "\\begin{align}\n",
    "\\frac{\\partial J(w,b)}{\\partial w}  &= \\frac{1}{m} \\sum\\limits_{i = 0}^{m-1} (f_{w,b}(x^{(i)}) - y^{(i)})x^{(i)} \\tag{4}\\\\\n",
    "  \\frac{\\partial J(w,b)}{\\partial b}  &= \\frac{1}{m} \\sum\\limits_{i = 0}^{m-1} (f_{w,b}(x^{(i)}) - y^{(i)}) \\tag{5}\\\\\n",
    "\\end{align}\n",
    "$$\n",
    "\n",
    "Here *simultaniously* means that you calculate the partial derivatives for all the parameters before updating any of the parameters."
   ]
  },
  {
   "cell_type": "markdown",
   "id": "b14e76fd",
   "metadata": {},
   "source": [
    "<a name=\"top_2\"></a>\n",
    "## 2. Our Program\n",
    "Here you can see the code to run this model"
   ]
  },
  {
   "cell_type": "markdown",
   "id": "be8dc204",
   "metadata": {},
   "source": [
    "<a name=\"top_2.1\"></a>\n",
    "## 2.1 Import libraries"
   ]
  },
  {
   "cell_type": "code",
   "execution_count": 1,
   "id": "45996131",
   "metadata": {},
   "outputs": [],
   "source": [
    "import numpy as np\n",
    "import pandas as pd\n",
    "import math\n",
    "import matplotlib.pyplot as plt"
   ]
  },
  {
   "cell_type": "markdown",
   "id": "ff8baedb",
   "metadata": {},
   "source": [
    "<a name=\"top_2.2\"></a>\n",
    "## 2.2 Load data"
   ]
  },
  {
   "cell_type": "code",
   "execution_count": 2,
   "id": "df67b042",
   "metadata": {},
   "outputs": [
    {
     "data": {
      "text/html": [
       "<div>\n",
       "<style scoped>\n",
       "    .dataframe tbody tr th:only-of-type {\n",
       "        vertical-align: middle;\n",
       "    }\n",
       "\n",
       "    .dataframe tbody tr th {\n",
       "        vertical-align: top;\n",
       "    }\n",
       "\n",
       "    .dataframe thead th {\n",
       "        text-align: right;\n",
       "    }\n",
       "</style>\n",
       "<table border=\"1\" class=\"dataframe\">\n",
       "  <thead>\n",
       "    <tr style=\"text-align: right;\">\n",
       "      <th></th>\n",
       "      <th>X</th>\n",
       "      <th>Y</th>\n",
       "    </tr>\n",
       "  </thead>\n",
       "  <tbody>\n",
       "    <tr>\n",
       "      <th>0</th>\n",
       "      <td>6.1101</td>\n",
       "      <td>17.5920</td>\n",
       "    </tr>\n",
       "    <tr>\n",
       "      <th>1</th>\n",
       "      <td>5.5277</td>\n",
       "      <td>9.1302</td>\n",
       "    </tr>\n",
       "    <tr>\n",
       "      <th>2</th>\n",
       "      <td>8.5186</td>\n",
       "      <td>13.6620</td>\n",
       "    </tr>\n",
       "    <tr>\n",
       "      <th>3</th>\n",
       "      <td>7.0032</td>\n",
       "      <td>11.8540</td>\n",
       "    </tr>\n",
       "    <tr>\n",
       "      <th>4</th>\n",
       "      <td>5.8598</td>\n",
       "      <td>6.8233</td>\n",
       "    </tr>\n",
       "  </tbody>\n",
       "</table>\n",
       "</div>"
      ],
      "text/plain": [
       "        X        Y\n",
       "0  6.1101  17.5920\n",
       "1  5.5277   9.1302\n",
       "2  8.5186  13.6620\n",
       "3  7.0032  11.8540\n",
       "4  5.8598   6.8233"
      ]
     },
     "execution_count": 2,
     "metadata": {},
     "output_type": "execute_result"
    }
   ],
   "source": [
    "filepath = 'Simple_Linear Regression_data.csv'\n",
    "data = pd.read_csv(filepath)\n",
    "#See five first items of dataframe\n",
    "data.head()"
   ]
  },
  {
   "cell_type": "markdown",
   "id": "7c0f6516",
   "metadata": {},
   "source": [
    "## 2.3 Define variables"
   ]
  },
  {
   "cell_type": "code",
   "execution_count": 3,
   "id": "7ea0eb77",
   "metadata": {},
   "outputs": [
    {
     "name": "stdout",
     "output_type": "stream",
     "text": [
      "Number of training items: 97\n",
      "Number of features: 1\n",
      "\n",
      "Five rows of x: \n",
      " [[6.1101]\n",
      " [5.5277]\n",
      " [8.5186]\n",
      " [7.0032]\n",
      " [5.8598]]\n",
      "\n",
      "Five rows of y: \n",
      " [[17.592 ]\n",
      " [ 9.1302]\n",
      " [13.662 ]\n",
      " [11.854 ]\n",
      " [ 6.8233]]\n"
     ]
    }
   ],
   "source": [
    "# Set x and y train\n",
    "x_train = np.array(data.iloc[:,0]).reshape(-1,1)\n",
    "y_train = np.array(data.iloc[:,1]).reshape(-1,1)\n",
    "\n",
    "# Set m and n\n",
    "m = x_train.shape[0]\n",
    "n = data.shape[1]-1\n",
    "\n",
    "# ----------------------------------------\n",
    "print(f'Number of training items: {m}')\n",
    "print(f'Number of features: {n}')\n",
    "print('\\nFive rows of x: \\n',x_train[:5])\n",
    "print('\\nFive rows of y: \\n',y_train[:5])"
   ]
  },
  {
   "cell_type": "markdown",
   "id": "375f7605",
   "metadata": {},
   "source": [
    "<a name=\"top_2.3\"></a>\n",
    "## 2.3 Compute cost function"
   ]
  },
  {
   "cell_type": "code",
   "execution_count": 4,
   "id": "c26202a8",
   "metadata": {},
   "outputs": [
    {
     "name": "stdout",
     "output_type": "stream",
     "text": [
      "First cost function with w=0.8077936755478727,b=-0.06105369284849811 is : [32.07273388]\n",
      "Last cost_function with (w,b)(0.8077936755478727,-0.06105369284849811)is :[5.81620083]\n"
     ]
    }
   ],
   "source": [
    "#Compute best cost function with Gradient Descent function\n",
    "#---------------------------------\n",
    "\n",
    "#Set initial values for w and b\n",
    "w = 0\n",
    "b = 0\n",
    "\n",
    "# Create some lists to store data\n",
    "cost_func_list = []\n",
    "w_list = [0]\n",
    "b_list = [0]\n",
    "\n",
    "# Hyperparameters of model\n",
    "Number_of_iterations = 200\n",
    "learning_rate = 0.001\n",
    "\n",
    "def compute_best_cost_func(x_train, y_train, m, lr, Number_of_iterations):\n",
    "    \n",
    "    global w,b\n",
    "    \n",
    "    # Create a loop to find the minimum cost function\n",
    "    for i in range(Number_of_iterations):\n",
    "        # Again, define equations\n",
    "        f_wb = (w * x_train) + b\n",
    "        error = (f_wb - y_train)\n",
    "        cost_func = (1/(2 * m)) * sum(error**2)\n",
    "\n",
    "        #Updata w and b with the help of gradient descent\n",
    "        dj_dw = (1/m) * sum(error * x_train)\n",
    "        dj_db = (1/m) * sum(error)\n",
    "        w = w - lr * dj_dw\n",
    "        b = b - lr * dj_db\n",
    "\n",
    "        # Store varaibles to use \n",
    "        cost_func_list.append(cost_func)\n",
    "        w_list.append(w)\n",
    "        b_list.append(b)\n",
    "        \n",
    "    print(f'First cost function with w={w[0]},b={b[0]} is : {cost_func_list[0]}\\nLast cost_function with (w,b)({w[-1]},{b[-1]})is :{cost_func_list[-1]}')\n",
    "    return cost_func_list,w_list,b_list\n",
    "\n",
    "\n",
    "# call the function\n",
    "object = compute_best_cost_func(x_train,y_train,m,learning_rate,Number_of_iterations)"
   ]
  },
  {
   "cell_type": "markdown",
   "id": "fe19360b",
   "metadata": {},
   "source": [
    "<a name=\"top_2.4\"></a>\n",
    "## 2.4 Plot cost funtion"
   ]
  },
  {
   "cell_type": "code",
   "execution_count": 7,
   "id": "a28aa2e0",
   "metadata": {},
   "outputs": [
    {
     "data": {
      "image/png": "[encoded data removed]",
      "text/plain": [
       "<Figure size 432x288 with 1 Axes>"
      ]
     },
     "metadata": {
      "needs_background": "light"
     },
     "output_type": "display_data"
    }
   ],
   "source": [
    "def plot_costfunction(x,y):\n",
    "    figure = plt.figure(figsize=(6,4))\n",
    "    plt.plot(x,y, linestyle='--',linewidth=3,label='J - Iteration plot')\n",
    "    plt.scatter(x=0, y=cost_func_list[0], c='red', marker='v', linewidths=4, label='Start Point')\n",
    "    plt.scatter(x=Number_of_iterations, y=cost_func_list[-1], c='black', marker='>',\n",
    "                linewidths=4, label='End Point')\n",
    "    plt.xlabel('Iterations',fontsize=14,fontweight='bold')\n",
    "    plt.ylabel('J (Cost_Function)',fontsize=12,fontweight='bold')\n",
    "    plt.grid()\n",
    "    plt.legend()\n",
    "    \n",
    "    \n",
    "    \n",
    "    \n",
    "object = plot_costfunction(x=np.arange(Number_of_iterations),y=cost_func_list)"
   ]
  },
  {
   "cell_type": "markdown",
   "id": "88c2fc56",
   "metadata": {},
   "source": [
    "<a name=\"top_2.5\"></a>\n",
    "## 2.5 Plot data with fit line"
   ]
  },
  {
   "cell_type": "code",
   "execution_count": 8,
   "id": "a263e4d9",
   "metadata": {},
   "outputs": [
    {
     "data": {
      "image/png": "[encoded data removed]",
      "text/plain": [
       "<Figure size 432x288 with 1 Axes>"
      ]
     },
     "metadata": {
      "needs_background": "light"
     },
     "output_type": "display_data"
    }
   ],
   "source": [
    "def fit_line(w,b):\n",
    "    \n",
    "    figure = plt.figure(figsize=(6,4))\n",
    "    plt.scatter(x_train,y_train, label='Data')\n",
    "    y_hat = (w * x_train) + b\n",
    "    plt.plot(x_train , y_hat,color='red', label='Fit line' )\n",
    "    plt.xlabel('x',fontsize=15)\n",
    "    plt.ylabel('y',fontsize=15)\n",
    "    plt.grid()\n",
    "    plt.legend()\n",
    "object = fit_line(w_list[-1], b_list[-1])"
   ]
  },
  {
   "cell_type": "code",
   "execution_count": null,
   "id": "134e6144",
   "metadata": {},
   "outputs": [],
   "source": []
  }
 ],
 "metadata": {
  "kernelspec": {
   "display_name": "Python 3 (ipykernel)",
   "language": "python",
   "name": "python3"
  },
  "language_info": {
   "codemirror_mode": {
    "name": "ipython",
    "version": 3
   },
   "file_extension": ".py",
   "mimetype": "text/x-python",
   "name": "python",
   "nbconvert_exporter": "python",
   "pygments_lexer": "ipython3",
   "version": "3.8.5"
  }
 },
 "nbformat": 4,
 "nbformat_minor": 5
}
