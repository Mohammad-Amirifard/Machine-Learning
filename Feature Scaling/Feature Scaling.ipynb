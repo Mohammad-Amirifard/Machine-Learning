{
 "cells": [
  {
   "cell_type": "markdown",
   "id": "8893b4f3",
   "metadata": {},
   "source": [
    "<div class=\"alert alert-block alert-success\">\n",
    "    <h1 align=\"center\">Mohammad Amirifard</h1>\n",
    "    <h1 align=\"center\">Feature Scaling</h1>\n",
    "</div>\n",
    "\n",
    "Feature Scaling is a technique of bringing down the values of all the independent features of our dataset on the same scale. Feature selection helps to do calculations in algorithms very quickly. It is the important stage of data preprocessing.\n",
    "<figure>\n",
    "    <center> <img src=\"https://miro.medium.com/max/1200/1*yR54MSI1jjnf2QeGtt57PA.png\"  style=\"width:600px;height:400px;\" ></center>\n",
    "</figure>\n"
   ]
  },
  {
   "cell_type": "markdown",
   "id": "ac2a302c",
   "metadata": {},
   "source": [
    "## Outline\n",
    "- [1 Project detail](#top_1)\n",
    "- [&nbsp;&nbsp;1.1 Used Notations](#top_1.1)\n",
    "- [&nbsp;&nbsp;1.2 Used Equations](#top_1.2)\n",
    "- [2 Our Program](#top_2)\n",
    "- [&nbsp;&nbsp;2.1 Import libraries](#top_2.1)\n",
    "- [&nbsp;&nbsp;2.2 Load data](#top_2.2)\n",
    "- [&nbsp;&nbsp;2.3 EDA](#top_2.3)\n",
    "- [&nbsp;&nbsp;2.4 Define Variables](#top_2.4)\n",
    "- [&nbsp;&nbsp;2.5 Define Model and train it without feature scaling](#top_2.5)\n",
    "- [&nbsp;&nbsp;2.6 Define Model and train it with feature scaling](#top_2.6)\n"
   ]
  },
  {
   "cell_type": "markdown",
   "id": "244004ed",
   "metadata": {},
   "source": [
    "<a name=\"top_1\"></a>\n",
    "# 1. Project detail\n",
    "---------------\n",
    "In this prject we want to learn how to scale features of our dataset to obtain a better result.Our dataset is to regarding power consumption. Actually the goal is find the best correlation between power consumption and other features to predict suitable values for power consumption based on  new reported features.\n",
    "\n",
    "Let's get started"
   ]
  },
  {
   "cell_type": "markdown",
   "id": "f4bac12a",
   "metadata": {},
   "source": [
    "<a name=\"top_1.1\"></a>\n",
    "## 1.1 Notations used in this project\n",
    "------------\n",
    "Here is a summary of some of the notation you will encounter.  \n",
    "\n",
    "|General <img width=70/> <br />  Notation  <img width=70/> | Description<img width=350/>| Python (if applicable) |\n",
    "|: ------------|: ------------------------------------------------------------||\n",
    "|  $\\mathbf{x-train}$ | Training Example feature values (in this lab - 41932 items))  | `x_train` |   \n",
    "|  $\\mathbf{y-train}$  | Training Example  targets (in this lab lab - 41932 items).  | `y_train` \n",
    "|  $\\mathbf{x-test}$ | Test Example feature values (in this lab - 10484 items))  | `x_train` |   \n",
    "|  $\\mathbf{y-test}$  | Test Example  targets (in this lab lab - 10484 items).  | `y_train` \n",
    "| m | Number of training examples | `m`|\n",
    "| n | Number of features          | `n`|\n"
   ]
  },
  {
   "cell_type": "markdown",
   "id": "d3d576db",
   "metadata": {},
   "source": [
    "<a name=\"top_1.2\"></a>\n",
    "## 1.2  Equations Used in this project\n",
    " \n",
    " \n",
    " \n",
    " \n",
    "-----------------\n",
    "We have several different feature scaling methods, but two of which are defined\n",
    "### 1st type: Normalization\n",
    "\n",
    "$$ X_{new}= \\frac {X-X_{min}}{X_{max}-X_{min}} \\tag{1}$$\n",
    "\n",
    "\n",
    "### 2nd type: Standardizatiom \n",
    "$$ X_{new}= \\frac {X-X_{mean}}{Standard Deviation} \\tag{2}$$"
   ]
  },
  {
   "cell_type": "markdown",
   "id": "ec87b16b",
   "metadata": {},
   "source": [
    "<a name=\"top_2\"></a>\n",
    "# 2. Our Program\n",
    "Here you can see the codes to run"
   ]
  },
  {
   "cell_type": "markdown",
   "id": "36b74211",
   "metadata": {},
   "source": [
    "<a name=\"top_2.1\"></a>\n",
    "## 2.1 Import libraries"
   ]
  },
  {
   "cell_type": "code",
   "execution_count": 1,
   "id": "473713e8",
   "metadata": {},
   "outputs": [],
   "source": [
    "import pandas as pd\n",
    "import numpy as np\n",
    "from sklearn.preprocessing import LabelEncoder, MinMaxScaler\n",
    "from sklearn.linear_model import LinearRegression\n",
    "from sklearn.model_selection import train_test_split\n",
    "from sklearn.metrics import mean_squared_error"
   ]
  },
  {
   "cell_type": "markdown",
   "id": "a949cbda",
   "metadata": {},
   "source": [
    "<a name=\"top_2.2\"></a>\n",
    "## 2.2 Load data"
   ]
  },
  {
   "cell_type": "code",
   "execution_count": 2,
   "id": "3c7449c8",
   "metadata": {},
   "outputs": [
    {
     "data": {
      "text/html": [
       "<div>\n",
       "<style scoped>\n",
       "    .dataframe tbody tr th:only-of-type {\n",
       "        vertical-align: middle;\n",
       "    }\n",
       "\n",
       "    .dataframe tbody tr th {\n",
       "        vertical-align: top;\n",
       "    }\n",
       "\n",
       "    .dataframe thead th {\n",
       "        text-align: right;\n",
       "    }\n",
       "</style>\n",
       "<table border=\"1\" class=\"dataframe\">\n",
       "  <thead>\n",
       "    <tr style=\"text-align: right;\">\n",
       "      <th></th>\n",
       "      <th>Temperature</th>\n",
       "      <th>Humidity</th>\n",
       "      <th>Wind Speed</th>\n",
       "      <th>general diffuse flows</th>\n",
       "      <th>diffuse flows</th>\n",
       "      <th>Power Consumption</th>\n",
       "    </tr>\n",
       "  </thead>\n",
       "  <tbody>\n",
       "    <tr>\n",
       "      <th>0</th>\n",
       "      <td>6.559</td>\n",
       "      <td>73.8</td>\n",
       "      <td>0.083</td>\n",
       "      <td>0.051</td>\n",
       "      <td>0.119</td>\n",
       "      <td>34055.69620</td>\n",
       "    </tr>\n",
       "    <tr>\n",
       "      <th>1</th>\n",
       "      <td>6.414</td>\n",
       "      <td>74.5</td>\n",
       "      <td>0.083</td>\n",
       "      <td>0.070</td>\n",
       "      <td>0.085</td>\n",
       "      <td>29814.68354</td>\n",
       "    </tr>\n",
       "    <tr>\n",
       "      <th>2</th>\n",
       "      <td>6.313</td>\n",
       "      <td>74.5</td>\n",
       "      <td>0.080</td>\n",
       "      <td>0.062</td>\n",
       "      <td>0.100</td>\n",
       "      <td>29128.10127</td>\n",
       "    </tr>\n",
       "    <tr>\n",
       "      <th>3</th>\n",
       "      <td>6.121</td>\n",
       "      <td>75.0</td>\n",
       "      <td>0.083</td>\n",
       "      <td>0.091</td>\n",
       "      <td>0.096</td>\n",
       "      <td>28228.86076</td>\n",
       "    </tr>\n",
       "    <tr>\n",
       "      <th>4</th>\n",
       "      <td>5.921</td>\n",
       "      <td>75.7</td>\n",
       "      <td>0.081</td>\n",
       "      <td>0.048</td>\n",
       "      <td>0.085</td>\n",
       "      <td>27335.69620</td>\n",
       "    </tr>\n",
       "  </tbody>\n",
       "</table>\n",
       "</div>"
      ],
      "text/plain": [
       "   Temperature  Humidity  Wind Speed  general diffuse flows  diffuse flows  \\\n",
       "0        6.559      73.8       0.083                  0.051          0.119   \n",
       "1        6.414      74.5       0.083                  0.070          0.085   \n",
       "2        6.313      74.5       0.080                  0.062          0.100   \n",
       "3        6.121      75.0       0.083                  0.091          0.096   \n",
       "4        5.921      75.7       0.081                  0.048          0.085   \n",
       "\n",
       "   Power Consumption  \n",
       "0        34055.69620  \n",
       "1        29814.68354  \n",
       "2        29128.10127  \n",
       "3        28228.86076  \n",
       "4        27335.69620  "
      ]
     },
     "execution_count": 2,
     "metadata": {},
     "output_type": "execute_result"
    }
   ],
   "source": [
    "data = pd.read_csv('Feature_Scaling_data.csv')\n",
    "data.head()"
   ]
  },
  {
   "cell_type": "code",
   "execution_count": 3,
   "id": "6d98b513",
   "metadata": {},
   "outputs": [
    {
     "name": "stdout",
     "output_type": "stream",
     "text": [
      "Number of rows:52416\n",
      "Number of columns:6\n"
     ]
    }
   ],
   "source": [
    "print(f'Number of rows:{data.shape[0]}\\nNumber of columns:{data.shape[1]}')"
   ]
  },
  {
   "cell_type": "markdown",
   "id": "e2dce773",
   "metadata": {},
   "source": [
    "<a name=\"top_2.3\"></a>\n",
    "## 2.3 EDA"
   ]
  },
  {
   "cell_type": "code",
   "execution_count": 4,
   "id": "b3d649eb",
   "metadata": {},
   "outputs": [
    {
     "name": "stdout",
     "output_type": "stream",
     "text": [
      "<class 'pandas.core.frame.DataFrame'>\n",
      "RangeIndex: 52416 entries, 0 to 52415\n",
      "Data columns (total 6 columns):\n",
      " #   Column                 Non-Null Count  Dtype  \n",
      "---  ------                 --------------  -----  \n",
      " 0   Temperature            52416 non-null  float64\n",
      " 1   Humidity               52416 non-null  float64\n",
      " 2   Wind Speed             52416 non-null  float64\n",
      " 3   general diffuse flows  52416 non-null  float64\n",
      " 4   diffuse flows          52416 non-null  float64\n",
      " 5   Power Consumption      52416 non-null  float64\n",
      "dtypes: float64(6)\n",
      "memory usage: 2.4 MB\n"
     ]
    }
   ],
   "source": [
    "# Let's see some inforamtion of this dataset\n",
    "data.info()"
   ]
  },
  {
   "cell_type": "code",
   "execution_count": 5,
   "id": "925e9aad",
   "metadata": {},
   "outputs": [
    {
     "data": {
      "text/plain": [
       "Temperature               3437\n",
       "Humidity                  4443\n",
       "Wind Speed                 548\n",
       "general diffuse flows    10504\n",
       "diffuse flows            10449\n",
       "Power Consumption        27709\n",
       "dtype: int64"
      ]
     },
     "execution_count": 5,
     "metadata": {},
     "output_type": "execute_result"
    }
   ],
   "source": [
    "data.nunique()"
   ]
  },
  {
   "cell_type": "code",
   "execution_count": 6,
   "id": "580eb227",
   "metadata": {},
   "outputs": [
    {
     "data": {
      "text/plain": [
       "Temperature              0\n",
       "Humidity                 0\n",
       "Wind Speed               0\n",
       "general diffuse flows    0\n",
       "diffuse flows            0\n",
       "Power Consumption        0\n",
       "dtype: int64"
      ]
     },
     "execution_count": 6,
     "metadata": {},
     "output_type": "execute_result"
    }
   ],
   "source": [
    "data.isnull().sum()"
   ]
  },
  {
   "cell_type": "markdown",
   "id": "cb279ebe",
   "metadata": {},
   "source": [
    "<a name=\"top_2.4\"></a>\n",
    "## 2.4 Define Variables"
   ]
  },
  {
   "cell_type": "code",
   "execution_count": 7,
   "id": "7b798989",
   "metadata": {},
   "outputs": [
    {
     "name": "stdout",
     "output_type": "stream",
     "text": [
      "Number of training items: 41932\n",
      "Number of features: 5\n",
      "\n",
      "Five rows of x: \n",
      " [[3.017e+01 5.203e+01 4.926e+00 4.321e+02 1.104e+02]\n",
      " [1.937e+01 9.060e+01 3.070e-01 7.300e-02 1.300e-01]\n",
      " [2.997e+01 3.398e+01 4.916e+00 7.070e+01 7.250e+01]\n",
      " [1.234e+01 8.530e+01 7.600e-02 5.500e-02 1.630e-01]\n",
      " [1.810e+01 6.242e+01 8.900e-02 7.380e+01 8.330e+01]]\n",
      "\n",
      "Five rows of y: \n",
      " [[35567.84053]\n",
      " [24352.56637]\n",
      " [41857.27575]\n",
      " [23272.85106]\n",
      " [35775.18987]]\n"
     ]
    }
   ],
   "source": [
    "# Set x and y \n",
    "x = np.array(data.iloc[:,:-1])\n",
    "y = np.array(data.iloc[:,-1]).reshape(-1,1)\n",
    "\n",
    "# Set x_train, x_test, y_train, y_test\n",
    "x_train, x_test, y_train, y_test = train_test_split(x, y, test_size=0.2, random_state=42)\n",
    "\n",
    "# Set m and n\n",
    "m = x_train.shape[0]\n",
    "n = x_train.shape[1]\n",
    "\n",
    "# ----------------------------------------\n",
    "print(f'Number of training items: {m}')\n",
    "print(f'Number of features: {n}')\n",
    "print('\\nFive rows of x: \\n',x_train[:5])\n",
    "print('\\nFive rows of y: \\n',y_train[:5])"
   ]
  },
  {
   "cell_type": "markdown",
   "id": "9401274d",
   "metadata": {},
   "source": [
    "<a name=\"top_2.5\"></a>\n",
    "## 2.5 Define Model and train it without feature scaling"
   ]
  },
  {
   "cell_type": "code",
   "execution_count": 8,
   "id": "58060f25",
   "metadata": {},
   "outputs": [
    {
     "name": "stdout",
     "output_type": "stream",
     "text": [
      "List of w for the fit line:\n",
      "\n",
      "[ 5.34405683e+02 -5.57553242e+01 -1.38529003e+02 -1.61333391e+00\n",
      " -1.10103823e-01]\n"
     ]
    }
   ],
   "source": [
    "# Our model to train is Linear Regression\n",
    "Regressor = LinearRegression()\n",
    "Regression = Regressor.fit(x_train,y_train)\n",
    "print(f'List of w for the fit line:\\n\\n{Regression.coef_[0]}')"
   ]
  },
  {
   "cell_type": "code",
   "execution_count": 9,
   "id": "e3b27b80",
   "metadata": {},
   "outputs": [
    {
     "data": {
      "text/plain": [
       "array([[36086.64216639],\n",
       "       [32086.82092766],\n",
       "       [30872.26086217],\n",
       "       ...,\n",
       "       [32935.8833043 ],\n",
       "       [36604.64289327],\n",
       "       [35598.2234164 ]])"
      ]
     },
     "execution_count": 9,
     "metadata": {},
     "output_type": "execute_result"
    }
   ],
   "source": [
    "# Predict on test data\n",
    "y_predict = Regression.predict(x_test)\n",
    "y_predict"
   ]
  },
  {
   "cell_type": "code",
   "execution_count": 10,
   "id": "680cb90b",
   "metadata": {},
   "outputs": [
    {
     "data": {
      "text/plain": [
       "array([[32985.14532],\n",
       "       [34737.64259],\n",
       "       [27894.68354],\n",
       "       ...,\n",
       "       [43473.83607],\n",
       "       [27347.25664],\n",
       "       [37641.37625]])"
      ]
     },
     "execution_count": 10,
     "metadata": {},
     "output_type": "execute_result"
    }
   ],
   "source": [
    "y_test"
   ]
  },
  {
   "cell_type": "code",
   "execution_count": 11,
   "id": "65375d42",
   "metadata": {},
   "outputs": [
    {
     "name": "stdout",
     "output_type": "stream",
     "text": [
      "RSE1 =  39842406.218287066\n"
     ]
    }
   ],
   "source": [
    "# See RSE score obtained from this model without feature scaling\n",
    "RSE1 = mean_squared_error(y_test, y_predict)\n",
    "print('RSE1 = ',RSE1)"
   ]
  },
  {
   "cell_type": "markdown",
   "id": "d4d6a207",
   "metadata": {},
   "source": [
    "<a name=\"top_2.6\"></a>\n",
    "## 2.6 Define Model and train it with feature scaling"
   ]
  },
  {
   "cell_type": "code",
   "execution_count": 12,
   "id": "fda3047c",
   "metadata": {},
   "outputs": [],
   "source": [
    "# Here I just use Normalization, If you like to use other methods, it's ok.Don not worry\n",
    "Scaler = MinMaxScaler()\n",
    "data= pd.DataFrame(Scaler.fit_transform(data))"
   ]
  },
  {
   "cell_type": "code",
   "execution_count": 13,
   "id": "1e3a8d9a",
   "metadata": {
    "scrolled": true
   },
   "outputs": [
    {
     "data": {
      "text/html": [
       "<div>\n",
       "<style scoped>\n",
       "    .dataframe tbody tr th:only-of-type {\n",
       "        vertical-align: middle;\n",
       "    }\n",
       "\n",
       "    .dataframe tbody tr th {\n",
       "        vertical-align: top;\n",
       "    }\n",
       "\n",
       "    .dataframe thead th {\n",
       "        text-align: right;\n",
       "    }\n",
       "</style>\n",
       "<table border=\"1\" class=\"dataframe\">\n",
       "  <thead>\n",
       "    <tr style=\"text-align: right;\">\n",
       "      <th></th>\n",
       "      <th>0</th>\n",
       "      <th>1</th>\n",
       "      <th>2</th>\n",
       "      <th>3</th>\n",
       "      <th>4</th>\n",
       "      <th>5</th>\n",
       "    </tr>\n",
       "  </thead>\n",
       "  <tbody>\n",
       "    <tr>\n",
       "      <th>0</th>\n",
       "      <td>0.090091</td>\n",
       "      <td>0.748382</td>\n",
       "      <td>0.005130</td>\n",
       "      <td>0.000040</td>\n",
       "      <td>0.000115</td>\n",
       "      <td>0.526251</td>\n",
       "    </tr>\n",
       "    <tr>\n",
       "      <th>1</th>\n",
       "      <td>0.086146</td>\n",
       "      <td>0.756770</td>\n",
       "      <td>0.005130</td>\n",
       "      <td>0.000057</td>\n",
       "      <td>0.000079</td>\n",
       "      <td>0.415545</td>\n",
       "    </tr>\n",
       "    <tr>\n",
       "      <th>2</th>\n",
       "      <td>0.083399</td>\n",
       "      <td>0.756770</td>\n",
       "      <td>0.004663</td>\n",
       "      <td>0.000050</td>\n",
       "      <td>0.000095</td>\n",
       "      <td>0.397623</td>\n",
       "    </tr>\n",
       "    <tr>\n",
       "      <th>3</th>\n",
       "      <td>0.078176</td>\n",
       "      <td>0.762761</td>\n",
       "      <td>0.005130</td>\n",
       "      <td>0.000075</td>\n",
       "      <td>0.000091</td>\n",
       "      <td>0.374149</td>\n",
       "    </tr>\n",
       "    <tr>\n",
       "      <th>4</th>\n",
       "      <td>0.072736</td>\n",
       "      <td>0.771148</td>\n",
       "      <td>0.004819</td>\n",
       "      <td>0.000038</td>\n",
       "      <td>0.000079</td>\n",
       "      <td>0.350834</td>\n",
       "    </tr>\n",
       "  </tbody>\n",
       "</table>\n",
       "</div>"
      ],
      "text/plain": [
       "          0         1         2         3         4         5\n",
       "0  0.090091  0.748382  0.005130  0.000040  0.000115  0.526251\n",
       "1  0.086146  0.756770  0.005130  0.000057  0.000079  0.415545\n",
       "2  0.083399  0.756770  0.004663  0.000050  0.000095  0.397623\n",
       "3  0.078176  0.762761  0.005130  0.000075  0.000091  0.374149\n",
       "4  0.072736  0.771148  0.004819  0.000038  0.000079  0.350834"
      ]
     },
     "execution_count": 13,
     "metadata": {},
     "output_type": "execute_result"
    }
   ],
   "source": [
    "data.head()"
   ]
  },
  {
   "cell_type": "code",
   "execution_count": 14,
   "id": "8fda9ca6",
   "metadata": {},
   "outputs": [],
   "source": [
    "# Again we must make our model and train it to see the effect of Normalization of the result\n",
    "# Set x and y \n",
    "x = np.array(data.iloc[:,:-1])\n",
    "y = np.array(data.iloc[:,-1]).reshape(-1,1)\n",
    "\n",
    "# Set x_train, x_test, y_train, y_test\n",
    "x_train, x_test, y_train, y_test = train_test_split(x, y, test_size=0.2, random_state=42)\n",
    "\n",
    "Regressor = LinearRegression()\n",
    "Regression = Regressor.fit(x_train,y_train)\n",
    "\n",
    "# Predict on test data\n",
    "y_predict = Regression.predict(x_test)\n"
   ]
  },
  {
   "cell_type": "code",
   "execution_count": 15,
   "id": "78f61540",
   "metadata": {
    "scrolled": true
   },
   "outputs": [
    {
     "data": {
      "text/plain": [
       "array([[0.5792665 ],\n",
       "       [0.47485624],\n",
       "       [0.44315169],\n",
       "       ...,\n",
       "       [0.49701994],\n",
       "       [0.59278825],\n",
       "       [0.56651695]])"
      ]
     },
     "execution_count": 15,
     "metadata": {},
     "output_type": "execute_result"
    }
   ],
   "source": [
    "y_predict"
   ]
  },
  {
   "cell_type": "code",
   "execution_count": 16,
   "id": "ca6988ad",
   "metadata": {
    "scrolled": true
   },
   "outputs": [
    {
     "data": {
      "text/plain": [
       "array([[0.49830586],\n",
       "       [0.54405258],\n",
       "       [0.36542581],\n",
       "       ...,\n",
       "       [0.77209983],\n",
       "       [0.35113593],\n",
       "       [0.61985086]])"
      ]
     },
     "execution_count": 16,
     "metadata": {},
     "output_type": "execute_result"
    }
   ],
   "source": [
    "y_test"
   ]
  },
  {
   "cell_type": "code",
   "execution_count": 17,
   "id": "483ff4fd",
   "metadata": {},
   "outputs": [
    {
     "name": "stdout",
     "output_type": "stream",
     "text": [
      "RSE2 =  0.02714880727370638\n",
      "As you see the amount of this RSE is highly lower than the previous RSE which was:39842406.218287066\n"
     ]
    }
   ],
   "source": [
    "# See the RSE score obtained from this model with feature scaling\n",
    "RSE2 = mean_squared_error(y_test, y_predict)\n",
    "print('RSE2 = ',RSE2)\n",
    "\n",
    "print(f'As you see the amount of this RSE is highly lower than the previous RSE which was:{RSE1}')\n"
   ]
  },
  {
   "cell_type": "code",
   "execution_count": null,
   "id": "feb42c9b",
   "metadata": {},
   "outputs": [],
   "source": []
  }
 ],
 "metadata": {
  "kernelspec": {
   "display_name": "Python 3 (ipykernel)",
   "language": "python",
   "name": "python3"
  },
  "language_info": {
   "codemirror_mode": {
    "name": "ipython",
    "version": 3
   },
   "file_extension": ".py",
   "mimetype": "text/x-python",
   "name": "python",
   "nbconvert_exporter": "python",
   "pygments_lexer": "ipython3",
   "version": "3.9.9"
  }
 },
 "nbformat": 4,
 "nbformat_minor": 5
}
