{
 "cells": [
  {
   "cell_type": "markdown",
   "id": "8893b4f3",
   "metadata": {},
   "source": [
    "## Feature Scaling\n",
    "Feature Scaling is a technique of bringing down the values of all the independent features of our dataset on the same scale. Feature selection helps to do calculations in algorithms very quickly. It is the important stage of data preprocessing.\n",
    "<figure>\n",
    "    <center> <img src=\"https://miro.medium.com/max/1200/1*yR54MSI1jjnf2QeGtt57PA.png\"  style=\"width:600px;height:400px;\" ></center>\n",
    "</figure>\n"
   ]
  },
  {
   "cell_type": "markdown",
   "id": "ac2a302c",
   "metadata": {},
   "source": [
    "## Outline\n",
    "- [1 Project detail](#top_1)\n",
    "- [&nbsp;&nbsp;1.1 Used Notations](#top_1.1)\n",
    "- [&nbsp;&nbsp;1.2 Used Equations](#top_1.2)\n",
    "- [2 Our Program](#top_2)\n",
    "- [&nbsp;&nbsp;2.1 Import libraries](#top_2.1)\n",
    "- [&nbsp;&nbsp;2.2 Load data](#top_2.2)\n",
    "- [&nbsp;&nbsp;2.3 EDA](#top_2.3)\n",
    "- [&nbsp;&nbsp;2.4 Define Variables](#top_2.4)\n",
    "- [&nbsp;&nbsp;2.5 Feature Scaling](#top_2.5)\n",
    "- [&nbsp;&nbsp;2.6 Define Model](#top_2.6)\n",
    "- [&nbsp;&nbsp;2.7 Plot data with fit line](#top_2.7)"
   ]
  },
  {
   "cell_type": "markdown",
   "id": "244004ed",
   "metadata": {},
   "source": [
    "<a name=\"top_1\"></a>\n",
    "# 1. Project detail\n",
    "---------------\n",
    "In this prject we want to scale features of our dataset to obtain a better result.\n",
    "\n",
    "Let's get started"
   ]
  },
  {
   "cell_type": "markdown",
   "id": "f4bac12a",
   "metadata": {},
   "source": [
    "<a name=\"top_1.1\"></a>\n",
    "## 1.1 Notations used in this project\n",
    "------------\n",
    "Here is a summary of some of the notation you will encounter.  \n",
    "\n",
    "|General <img width=70/> <br />  Notation  <img width=70/> | Description<img width=350/>| Python (if applicable) |\n",
    "|: ------------|: ------------------------------------------------------------||\n",
    "|  $\\mathbf{x}$ | Training Example feature values (in this lab - 97 items))  | `x_train` |   \n",
    "|  $\\mathbf{y}$  | Training Example  targets (in this lab lab - 97 items).  | `y_train` \n",
    "| m | Number of training examples | `m`|\n",
    "| n | Number of features          | `n`|\n",
    "|  $w$  |  parameter: weight,                                 | `w`    |\n",
    "|  $b$           |  parameter: bias                                           | `b`    |     \n",
    "| $f_{w,b}(x^{(i)})$ | The result of the model evaluation at $x^{(i)}$ parameterized by $w,b$: $f_{w,b}(x^{(i)}) = wx^{(i)}+b$  | `f_wb` "
   ]
  },
  {
   "cell_type": "markdown",
   "id": "b28dc7db",
   "metadata": {},
   "source": []
  },
  {
   "cell_type": "markdown",
   "id": "d3d576db",
   "metadata": {},
   "source": [
    "<a name=\"top_1.2\"></a>\n",
    "## 1.2  Equations Used in this project\n",
    " \n",
    " \n",
    " \n",
    " \n",
    "-----------------\n",
    "We have several different feature scaling methods, but two of which is defined\n",
    "### 1st type: Normalization\n",
    "\n",
    "$$ X_{new}= \\frac {X-X_{min}}{X_{max}-X_{min}} \\tag{1}$$\n",
    "\n",
    "\n",
    "### 2nd type: Standardizatiom \n",
    "$$ X_{new}= \\frac {X-X_{mean}}{Standard Deviation} \\tag{2}$$"
   ]
  },
  {
   "cell_type": "markdown",
   "id": "ec87b16b",
   "metadata": {},
   "source": [
    "<a name=\"top_2\"></a>\n",
    "# 2. Our Program\n",
    "Here you can see the code to run this model"
   ]
  },
  {
   "cell_type": "markdown",
   "id": "36b74211",
   "metadata": {},
   "source": [
    "<a name=\"top_2.1\"></a>\n",
    "## 2.1 Import libraries"
   ]
  },
  {
   "cell_type": "code",
   "execution_count": 1,
   "id": "473713e8",
   "metadata": {},
   "outputs": [],
   "source": [
    "import pandas as pd\n",
    "import numpy as np\n",
    "from sklearn.preprocessing import LabelEncoder, MinMaxScaler\n",
    "from sklearn.linear_model import LinearRegression"
   ]
  },
  {
   "cell_type": "markdown",
   "id": "a949cbda",
   "metadata": {},
   "source": [
    "<a name=\"top_2.2\"></a>\n",
    "## 2.2 Load data"
   ]
  },
  {
   "cell_type": "code",
   "execution_count": 2,
   "id": "3c7449c8",
   "metadata": {},
   "outputs": [
    {
     "data": {
      "text/html": [
       "<div>\n",
       "<style scoped>\n",
       "    .dataframe tbody tr th:only-of-type {\n",
       "        vertical-align: middle;\n",
       "    }\n",
       "\n",
       "    .dataframe tbody tr th {\n",
       "        vertical-align: top;\n",
       "    }\n",
       "\n",
       "    .dataframe thead th {\n",
       "        text-align: right;\n",
       "    }\n",
       "</style>\n",
       "<table border=\"1\" class=\"dataframe\">\n",
       "  <thead>\n",
       "    <tr style=\"text-align: right;\">\n",
       "      <th></th>\n",
       "      <th>PassengerId</th>\n",
       "      <th>Survived</th>\n",
       "      <th>Pclass</th>\n",
       "      <th>Name</th>\n",
       "      <th>Sex</th>\n",
       "      <th>Age</th>\n",
       "      <th>SibSp</th>\n",
       "      <th>Parch</th>\n",
       "      <th>Ticket</th>\n",
       "      <th>Fare</th>\n",
       "      <th>Cabin</th>\n",
       "      <th>Embarked</th>\n",
       "    </tr>\n",
       "  </thead>\n",
       "  <tbody>\n",
       "    <tr>\n",
       "      <th>0</th>\n",
       "      <td>1</td>\n",
       "      <td>0</td>\n",
       "      <td>3</td>\n",
       "      <td>Braund, Mr. Owen Harris</td>\n",
       "      <td>male</td>\n",
       "      <td>22.0</td>\n",
       "      <td>1</td>\n",
       "      <td>0</td>\n",
       "      <td>A/5 21171</td>\n",
       "      <td>7.2500</td>\n",
       "      <td>NaN</td>\n",
       "      <td>S</td>\n",
       "    </tr>\n",
       "    <tr>\n",
       "      <th>1</th>\n",
       "      <td>2</td>\n",
       "      <td>1</td>\n",
       "      <td>1</td>\n",
       "      <td>Cumings, Mrs. John Bradley (Florence Briggs Th...</td>\n",
       "      <td>female</td>\n",
       "      <td>38.0</td>\n",
       "      <td>1</td>\n",
       "      <td>0</td>\n",
       "      <td>PC 17599</td>\n",
       "      <td>71.2833</td>\n",
       "      <td>C85</td>\n",
       "      <td>C</td>\n",
       "    </tr>\n",
       "    <tr>\n",
       "      <th>2</th>\n",
       "      <td>3</td>\n",
       "      <td>1</td>\n",
       "      <td>3</td>\n",
       "      <td>Heikkinen, Miss. Laina</td>\n",
       "      <td>female</td>\n",
       "      <td>26.0</td>\n",
       "      <td>0</td>\n",
       "      <td>0</td>\n",
       "      <td>STON/O2. 3101282</td>\n",
       "      <td>7.9250</td>\n",
       "      <td>NaN</td>\n",
       "      <td>S</td>\n",
       "    </tr>\n",
       "    <tr>\n",
       "      <th>3</th>\n",
       "      <td>4</td>\n",
       "      <td>1</td>\n",
       "      <td>1</td>\n",
       "      <td>Futrelle, Mrs. Jacques Heath (Lily May Peel)</td>\n",
       "      <td>female</td>\n",
       "      <td>35.0</td>\n",
       "      <td>1</td>\n",
       "      <td>0</td>\n",
       "      <td>113803</td>\n",
       "      <td>53.1000</td>\n",
       "      <td>C123</td>\n",
       "      <td>S</td>\n",
       "    </tr>\n",
       "    <tr>\n",
       "      <th>4</th>\n",
       "      <td>5</td>\n",
       "      <td>0</td>\n",
       "      <td>3</td>\n",
       "      <td>Allen, Mr. William Henry</td>\n",
       "      <td>male</td>\n",
       "      <td>35.0</td>\n",
       "      <td>0</td>\n",
       "      <td>0</td>\n",
       "      <td>373450</td>\n",
       "      <td>8.0500</td>\n",
       "      <td>NaN</td>\n",
       "      <td>S</td>\n",
       "    </tr>\n",
       "  </tbody>\n",
       "</table>\n",
       "</div>"
      ],
      "text/plain": [
       "   PassengerId  Survived  Pclass  \\\n",
       "0            1         0       3   \n",
       "1            2         1       1   \n",
       "2            3         1       3   \n",
       "3            4         1       1   \n",
       "4            5         0       3   \n",
       "\n",
       "                                                Name     Sex   Age  SibSp  \\\n",
       "0                            Braund, Mr. Owen Harris    male  22.0      1   \n",
       "1  Cumings, Mrs. John Bradley (Florence Briggs Th...  female  38.0      1   \n",
       "2                             Heikkinen, Miss. Laina  female  26.0      0   \n",
       "3       Futrelle, Mrs. Jacques Heath (Lily May Peel)  female  35.0      1   \n",
       "4                           Allen, Mr. William Henry    male  35.0      0   \n",
       "\n",
       "   Parch            Ticket     Fare Cabin Embarked  \n",
       "0      0         A/5 21171   7.2500   NaN        S  \n",
       "1      0          PC 17599  71.2833   C85        C  \n",
       "2      0  STON/O2. 3101282   7.9250   NaN        S  \n",
       "3      0            113803  53.1000  C123        S  \n",
       "4      0            373450   8.0500   NaN        S  "
      ]
     },
     "execution_count": 2,
     "metadata": {},
     "output_type": "execute_result"
    }
   ],
   "source": [
    "test_data = pd.read_csv('Feature_Scaling_test_data.csv')\n",
    "train_data = pd.read_csv('Feature_Scaling_train_data.csv')\n",
    "train_data.head()"
   ]
  },
  {
   "cell_type": "markdown",
   "id": "e2dce773",
   "metadata": {},
   "source": [
    "<a name=\"top_2.3\"></a>\n",
    "## 2.3 EDA"
   ]
  },
  {
   "cell_type": "code",
   "execution_count": 3,
   "id": "b3d649eb",
   "metadata": {},
   "outputs": [
    {
     "name": "stdout",
     "output_type": "stream",
     "text": [
      "<class 'pandas.core.frame.DataFrame'>\n",
      "RangeIndex: 891 entries, 0 to 890\n",
      "Data columns (total 12 columns):\n",
      " #   Column       Non-Null Count  Dtype  \n",
      "---  ------       --------------  -----  \n",
      " 0   PassengerId  891 non-null    int64  \n",
      " 1   Survived     891 non-null    int64  \n",
      " 2   Pclass       891 non-null    int64  \n",
      " 3   Name         891 non-null    object \n",
      " 4   Sex          891 non-null    object \n",
      " 5   Age          714 non-null    float64\n",
      " 6   SibSp        891 non-null    int64  \n",
      " 7   Parch        891 non-null    int64  \n",
      " 8   Ticket       891 non-null    object \n",
      " 9   Fare         891 non-null    float64\n",
      " 10  Cabin        204 non-null    object \n",
      " 11  Embarked     889 non-null    object \n",
      "dtypes: float64(2), int64(5), object(5)\n",
      "memory usage: 83.7+ KB\n"
     ]
    }
   ],
   "source": [
    "# Let's see an inforamtion of this data\n",
    "train_data.info()"
   ]
  },
  {
   "cell_type": "code",
   "execution_count": 4,
   "id": "925e9aad",
   "metadata": {},
   "outputs": [
    {
     "data": {
      "text/plain": [
       "PassengerId    891\n",
       "Survived         2\n",
       "Pclass           3\n",
       "Name           891\n",
       "Sex              2\n",
       "Age             88\n",
       "SibSp            7\n",
       "Parch            7\n",
       "Ticket         681\n",
       "Fare           248\n",
       "Cabin          147\n",
       "Embarked         3\n",
       "dtype: int64"
      ]
     },
     "execution_count": 4,
     "metadata": {},
     "output_type": "execute_result"
    }
   ],
   "source": [
    "train_data.nunique()"
   ]
  },
  {
   "cell_type": "code",
   "execution_count": 5,
   "id": "afb1a901",
   "metadata": {},
   "outputs": [],
   "source": [
    "# Label Encoder for columns \"Sex\"and \"Embarked\"\n",
    "Label_Encoder =  LabelEncoder()\n",
    "train_data['Sex'] = Label_Encoder.fit_transform(train_data['Sex'])\n",
    "train_data['Embarked'] = Label_Encoder.fit_transform(train_data['Embarked'])"
   ]
  },
  {
   "cell_type": "code",
   "execution_count": 6,
   "id": "2267ec06",
   "metadata": {},
   "outputs": [
    {
     "data": {
      "text/html": [
       "<div>\n",
       "<style scoped>\n",
       "    .dataframe tbody tr th:only-of-type {\n",
       "        vertical-align: middle;\n",
       "    }\n",
       "\n",
       "    .dataframe tbody tr th {\n",
       "        vertical-align: top;\n",
       "    }\n",
       "\n",
       "    .dataframe thead th {\n",
       "        text-align: right;\n",
       "    }\n",
       "</style>\n",
       "<table border=\"1\" class=\"dataframe\">\n",
       "  <thead>\n",
       "    <tr style=\"text-align: right;\">\n",
       "      <th></th>\n",
       "      <th>PassengerId</th>\n",
       "      <th>Survived</th>\n",
       "      <th>Pclass</th>\n",
       "      <th>Name</th>\n",
       "      <th>Sex</th>\n",
       "      <th>Age</th>\n",
       "      <th>SibSp</th>\n",
       "      <th>Parch</th>\n",
       "      <th>Ticket</th>\n",
       "      <th>Fare</th>\n",
       "      <th>Cabin</th>\n",
       "      <th>Embarked</th>\n",
       "    </tr>\n",
       "  </thead>\n",
       "  <tbody>\n",
       "    <tr>\n",
       "      <th>0</th>\n",
       "      <td>1</td>\n",
       "      <td>0</td>\n",
       "      <td>3</td>\n",
       "      <td>Braund, Mr. Owen Harris</td>\n",
       "      <td>1</td>\n",
       "      <td>22.0</td>\n",
       "      <td>1</td>\n",
       "      <td>0</td>\n",
       "      <td>A/5 21171</td>\n",
       "      <td>7.2500</td>\n",
       "      <td>NaN</td>\n",
       "      <td>2</td>\n",
       "    </tr>\n",
       "    <tr>\n",
       "      <th>1</th>\n",
       "      <td>2</td>\n",
       "      <td>1</td>\n",
       "      <td>1</td>\n",
       "      <td>Cumings, Mrs. John Bradley (Florence Briggs Th...</td>\n",
       "      <td>0</td>\n",
       "      <td>38.0</td>\n",
       "      <td>1</td>\n",
       "      <td>0</td>\n",
       "      <td>PC 17599</td>\n",
       "      <td>71.2833</td>\n",
       "      <td>C85</td>\n",
       "      <td>0</td>\n",
       "    </tr>\n",
       "    <tr>\n",
       "      <th>2</th>\n",
       "      <td>3</td>\n",
       "      <td>1</td>\n",
       "      <td>3</td>\n",
       "      <td>Heikkinen, Miss. Laina</td>\n",
       "      <td>0</td>\n",
       "      <td>26.0</td>\n",
       "      <td>0</td>\n",
       "      <td>0</td>\n",
       "      <td>STON/O2. 3101282</td>\n",
       "      <td>7.9250</td>\n",
       "      <td>NaN</td>\n",
       "      <td>2</td>\n",
       "    </tr>\n",
       "    <tr>\n",
       "      <th>3</th>\n",
       "      <td>4</td>\n",
       "      <td>1</td>\n",
       "      <td>1</td>\n",
       "      <td>Futrelle, Mrs. Jacques Heath (Lily May Peel)</td>\n",
       "      <td>0</td>\n",
       "      <td>35.0</td>\n",
       "      <td>1</td>\n",
       "      <td>0</td>\n",
       "      <td>113803</td>\n",
       "      <td>53.1000</td>\n",
       "      <td>C123</td>\n",
       "      <td>2</td>\n",
       "    </tr>\n",
       "    <tr>\n",
       "      <th>4</th>\n",
       "      <td>5</td>\n",
       "      <td>0</td>\n",
       "      <td>3</td>\n",
       "      <td>Allen, Mr. William Henry</td>\n",
       "      <td>1</td>\n",
       "      <td>35.0</td>\n",
       "      <td>0</td>\n",
       "      <td>0</td>\n",
       "      <td>373450</td>\n",
       "      <td>8.0500</td>\n",
       "      <td>NaN</td>\n",
       "      <td>2</td>\n",
       "    </tr>\n",
       "  </tbody>\n",
       "</table>\n",
       "</div>"
      ],
      "text/plain": [
       "   PassengerId  Survived  Pclass  \\\n",
       "0            1         0       3   \n",
       "1            2         1       1   \n",
       "2            3         1       3   \n",
       "3            4         1       1   \n",
       "4            5         0       3   \n",
       "\n",
       "                                                Name  Sex   Age  SibSp  Parch  \\\n",
       "0                            Braund, Mr. Owen Harris    1  22.0      1      0   \n",
       "1  Cumings, Mrs. John Bradley (Florence Briggs Th...    0  38.0      1      0   \n",
       "2                             Heikkinen, Miss. Laina    0  26.0      0      0   \n",
       "3       Futrelle, Mrs. Jacques Heath (Lily May Peel)    0  35.0      1      0   \n",
       "4                           Allen, Mr. William Henry    1  35.0      0      0   \n",
       "\n",
       "             Ticket     Fare Cabin  Embarked  \n",
       "0         A/5 21171   7.2500   NaN         2  \n",
       "1          PC 17599  71.2833   C85         0  \n",
       "2  STON/O2. 3101282   7.9250   NaN         2  \n",
       "3            113803  53.1000  C123         2  \n",
       "4            373450   8.0500   NaN         2  "
      ]
     },
     "execution_count": 6,
     "metadata": {},
     "output_type": "execute_result"
    }
   ],
   "source": [
    "# Reshape data frame and show it\n",
    "train_data.head()"
   ]
  },
  {
   "cell_type": "code",
   "execution_count": 7,
   "id": "5350a608",
   "metadata": {},
   "outputs": [
    {
     "data": {
      "text/plain": [
       "Pclass       1.0000\n",
       "Sex          0.0000\n",
       "Age         56.0000\n",
       "SibSp        0.0000\n",
       "Parch        1.0000\n",
       "Fare        83.1583\n",
       "Embarked     0.0000\n",
       "Survived     1.0000\n",
       "Name: 879, dtype: float64"
      ]
     },
     "execution_count": 7,
     "metadata": {},
     "output_type": "execute_result"
    }
   ],
   "source": [
    "# Beacuse we have Nan values in dataframe, we must remove them or replace with suitable values.\n",
    "# Here, drop them is easier than the other method\n",
    "train_data.dropna(inplace=True)\n",
    "train_data = train_data[['Pclass','Sex','Age','SibSp','Parch','Fare','Embarked','Survived']]\n",
    "train_data.iloc[182]"
   ]
  },
  {
   "cell_type": "markdown",
   "id": "cb279ebe",
   "metadata": {},
   "source": [
    "<a name=\"top_2.4\"></a>\n",
    "## 2.4 Define Variables"
   ]
  },
  {
   "cell_type": "code",
   "execution_count": 8,
   "id": "7b798989",
   "metadata": {},
   "outputs": [
    {
     "name": "stdout",
     "output_type": "stream",
     "text": [
      "Number of training items: 185\n",
      "Number of features: 7\n",
      "\n",
      "Five rows of x: \n",
      " [[ 1.      0.     38.      1.      0.     71.2833  0.    ]\n",
      " [ 1.      0.     35.      1.      0.     53.1     2.    ]\n",
      " [ 1.      1.     54.      0.      0.     51.8625  2.    ]\n",
      " [ 3.      0.      4.      1.      1.     16.7     2.    ]\n",
      " [ 1.      0.     58.      0.      0.     26.55    2.    ]]\n",
      "\n",
      "Five rows of y: \n",
      " [[1]\n",
      " [1]\n",
      " [0]\n",
      " [1]\n",
      " [1]]\n"
     ]
    }
   ],
   "source": [
    "# Set x and y train\n",
    "x_train = np.array(train_data.iloc[:,:-1])\n",
    "y_train = np.array(train_data.iloc[:,-1]).reshape(-1,1)\n",
    "\n",
    "# Set m and n\n",
    "m = x_train.shape[0]\n",
    "n = x_train.shape[1]\n",
    "\n",
    "# ----------------------------------------\n",
    "print(f'Number of training items: {m}')\n",
    "print(f'Number of features: {n}')\n",
    "print('\\nFive rows of x: \\n',x_train[:5])\n",
    "print('\\nFive rows of y: \\n',y_train[:5])"
   ]
  },
  {
   "cell_type": "markdown",
   "id": "d4d6a207",
   "metadata": {},
   "source": [
    "<a name=\"top_2.5\"></a>\n",
    "## 2.5 Feature Scaling"
   ]
  },
  {
   "cell_type": "code",
   "execution_count": 9,
   "id": "fda3047c",
   "metadata": {},
   "outputs": [
    {
     "data": {
      "text/plain": [
       "0    0.000000\n",
       "1    0.000000\n",
       "2    0.696510\n",
       "3    0.000000\n",
       "4    0.250000\n",
       "5    0.162314\n",
       "6    0.000000\n",
       "7    1.000000\n",
       "Name: 182, dtype: float64"
      ]
     },
     "execution_count": 9,
     "metadata": {},
     "output_type": "execute_result"
    }
   ],
   "source": [
    "Scaler = MinMaxScaler()\n",
    "train_data= pd.DataFrame(Scaler.fit_transform(train_data))"
   ]
  },
  {
   "cell_type": "code",
   "execution_count": 11,
   "id": "1e3a8d9a",
   "metadata": {},
   "outputs": [
    {
     "data": {
      "text/html": [
       "<div>\n",
       "<style scoped>\n",
       "    .dataframe tbody tr th:only-of-type {\n",
       "        vertical-align: middle;\n",
       "    }\n",
       "\n",
       "    .dataframe tbody tr th {\n",
       "        vertical-align: top;\n",
       "    }\n",
       "\n",
       "    .dataframe thead th {\n",
       "        text-align: right;\n",
       "    }\n",
       "</style>\n",
       "<table border=\"1\" class=\"dataframe\">\n",
       "  <thead>\n",
       "    <tr style=\"text-align: right;\">\n",
       "      <th></th>\n",
       "      <th>0</th>\n",
       "      <th>1</th>\n",
       "      <th>2</th>\n",
       "      <th>3</th>\n",
       "      <th>4</th>\n",
       "      <th>5</th>\n",
       "      <th>6</th>\n",
       "      <th>7</th>\n",
       "    </tr>\n",
       "  </thead>\n",
       "  <tbody>\n",
       "    <tr>\n",
       "      <th>0</th>\n",
       "      <td>0.0</td>\n",
       "      <td>0.0</td>\n",
       "      <td>0.468892</td>\n",
       "      <td>0.333333</td>\n",
       "      <td>0.00</td>\n",
       "      <td>0.139136</td>\n",
       "      <td>0.000000</td>\n",
       "      <td>1.0</td>\n",
       "    </tr>\n",
       "    <tr>\n",
       "      <th>1</th>\n",
       "      <td>0.0</td>\n",
       "      <td>0.0</td>\n",
       "      <td>0.430956</td>\n",
       "      <td>0.333333</td>\n",
       "      <td>0.00</td>\n",
       "      <td>0.103644</td>\n",
       "      <td>0.666667</td>\n",
       "      <td>1.0</td>\n",
       "    </tr>\n",
       "    <tr>\n",
       "      <th>2</th>\n",
       "      <td>0.0</td>\n",
       "      <td>1.0</td>\n",
       "      <td>0.671219</td>\n",
       "      <td>0.000000</td>\n",
       "      <td>0.00</td>\n",
       "      <td>0.101229</td>\n",
       "      <td>0.666667</td>\n",
       "      <td>0.0</td>\n",
       "    </tr>\n",
       "    <tr>\n",
       "      <th>3</th>\n",
       "      <td>1.0</td>\n",
       "      <td>0.0</td>\n",
       "      <td>0.038948</td>\n",
       "      <td>0.333333</td>\n",
       "      <td>0.25</td>\n",
       "      <td>0.032596</td>\n",
       "      <td>0.666667</td>\n",
       "      <td>1.0</td>\n",
       "    </tr>\n",
       "    <tr>\n",
       "      <th>4</th>\n",
       "      <td>0.0</td>\n",
       "      <td>0.0</td>\n",
       "      <td>0.721801</td>\n",
       "      <td>0.000000</td>\n",
       "      <td>0.00</td>\n",
       "      <td>0.051822</td>\n",
       "      <td>0.666667</td>\n",
       "      <td>1.0</td>\n",
       "    </tr>\n",
       "    <tr>\n",
       "      <th>...</th>\n",
       "      <td>...</td>\n",
       "      <td>...</td>\n",
       "      <td>...</td>\n",
       "      <td>...</td>\n",
       "      <td>...</td>\n",
       "      <td>...</td>\n",
       "      <td>...</td>\n",
       "      <td>...</td>\n",
       "    </tr>\n",
       "    <tr>\n",
       "      <th>180</th>\n",
       "      <td>0.0</td>\n",
       "      <td>0.0</td>\n",
       "      <td>0.582701</td>\n",
       "      <td>0.333333</td>\n",
       "      <td>0.25</td>\n",
       "      <td>0.102579</td>\n",
       "      <td>0.666667</td>\n",
       "      <td>1.0</td>\n",
       "    </tr>\n",
       "    <tr>\n",
       "      <th>181</th>\n",
       "      <td>0.0</td>\n",
       "      <td>1.0</td>\n",
       "      <td>0.405665</td>\n",
       "      <td>0.000000</td>\n",
       "      <td>0.00</td>\n",
       "      <td>0.009759</td>\n",
       "      <td>0.666667</td>\n",
       "      <td>0.0</td>\n",
       "    </tr>\n",
       "    <tr>\n",
       "      <th>182</th>\n",
       "      <td>0.0</td>\n",
       "      <td>0.0</td>\n",
       "      <td>0.696510</td>\n",
       "      <td>0.000000</td>\n",
       "      <td>0.25</td>\n",
       "      <td>0.162314</td>\n",
       "      <td>0.000000</td>\n",
       "      <td>1.0</td>\n",
       "    </tr>\n",
       "    <tr>\n",
       "      <th>183</th>\n",
       "      <td>0.0</td>\n",
       "      <td>0.0</td>\n",
       "      <td>0.228629</td>\n",
       "      <td>0.000000</td>\n",
       "      <td>0.00</td>\n",
       "      <td>0.058556</td>\n",
       "      <td>0.666667</td>\n",
       "      <td>1.0</td>\n",
       "    </tr>\n",
       "    <tr>\n",
       "      <th>184</th>\n",
       "      <td>0.0</td>\n",
       "      <td>1.0</td>\n",
       "      <td>0.317147</td>\n",
       "      <td>0.000000</td>\n",
       "      <td>0.00</td>\n",
       "      <td>0.058556</td>\n",
       "      <td>0.000000</td>\n",
       "      <td>1.0</td>\n",
       "    </tr>\n",
       "  </tbody>\n",
       "</table>\n",
       "<p>185 rows × 8 columns</p>\n",
       "</div>"
      ],
      "text/plain": [
       "       0    1         2         3     4         5         6    7\n",
       "0    0.0  0.0  0.468892  0.333333  0.00  0.139136  0.000000  1.0\n",
       "1    0.0  0.0  0.430956  0.333333  0.00  0.103644  0.666667  1.0\n",
       "2    0.0  1.0  0.671219  0.000000  0.00  0.101229  0.666667  0.0\n",
       "3    1.0  0.0  0.038948  0.333333  0.25  0.032596  0.666667  1.0\n",
       "4    0.0  0.0  0.721801  0.000000  0.00  0.051822  0.666667  1.0\n",
       "..   ...  ...       ...       ...   ...       ...       ...  ...\n",
       "180  0.0  0.0  0.582701  0.333333  0.25  0.102579  0.666667  1.0\n",
       "181  0.0  1.0  0.405665  0.000000  0.00  0.009759  0.666667  0.0\n",
       "182  0.0  0.0  0.696510  0.000000  0.25  0.162314  0.000000  1.0\n",
       "183  0.0  0.0  0.228629  0.000000  0.00  0.058556  0.666667  1.0\n",
       "184  0.0  1.0  0.317147  0.000000  0.00  0.058556  0.000000  1.0\n",
       "\n",
       "[185 rows x 8 columns]"
      ]
     },
     "execution_count": 11,
     "metadata": {},
     "output_type": "execute_result"
    }
   ],
   "source": [
    "train_data"
   ]
  },
  {
   "cell_type": "markdown",
   "id": "9401274d",
   "metadata": {},
   "source": [
    "<a name=\"top_2.6\"></a>\n",
    "## 2.4 Define Model"
   ]
  },
  {
   "cell_type": "code",
   "execution_count": 14,
   "id": "58060f25",
   "metadata": {},
   "outputs": [
    {
     "data": {
      "text/plain": [
       "array([[-8.50498814e-02, -4.70395324e-01, -6.22032706e-03,\n",
       "         1.70480607e-02, -5.84336792e-02,  2.48389337e-04,\n",
       "        -2.04589331e-02]])"
      ]
     },
     "execution_count": 14,
     "metadata": {},
     "output_type": "execute_result"
    }
   ],
   "source": [
    "Regressor = LinearRegression()\n",
    "Regression = Regressor.fit(x_train,y_train)\n",
    "Regression.coef_"
   ]
  },
  {
   "cell_type": "code",
   "execution_count": null,
   "id": "e1f44972",
   "metadata": {},
   "outputs": [],
   "source": []
  }
 ],
 "metadata": {
  "kernelspec": {
   "display_name": "Python 3 (ipykernel)",
   "language": "python",
   "name": "python3"
  },
  "language_info": {
   "codemirror_mode": {
    "name": "ipython",
    "version": 3
   },
   "file_extension": ".py",
   "mimetype": "text/x-python",
   "name": "python",
   "nbconvert_exporter": "python",
   "pygments_lexer": "ipython3",
   "version": "3.8.5"
  }
 },
 "nbformat": 4,
 "nbformat_minor": 5
}
